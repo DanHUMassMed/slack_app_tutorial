{
 "cells": [
  {
   "cell_type": "code",
   "execution_count": 2,
   "metadata": {},
   "outputs": [],
   "source": [
    "import os\n",
    "from pathlib import Path\n",
    "from dotenv import load_dotenv\n",
    "\n",
    "env_path = Path('.') / '.env'\n",
    "load_dotenv(dotenv_path=env_path)\n",
    "\n",
    "signing_secret=os.environ['SLACK_SIGNING_SECRET']\n",
    "slack_bot_token = os.environ.get(\"SLACK_BOT_TOKEN\")\n"
   ]
  },
  {
   "cell_type": "code",
   "execution_count": 5,
   "metadata": {},
   "outputs": [
    {
     "name": "stdout",
     "output_type": "stream",
     "text": [
      ":bowtie: - https://emoji.slack-edge.com/T077B9HK6BZ/bowtie/f3ec6f2bb0.png\n",
      ":squirrel: - https://emoji.slack-edge.com/T077B9HK6BZ/squirrel/465f40c0e0.png\n",
      ":glitch_crab: - https://emoji.slack-edge.com/T077B9HK6BZ/glitch_crab/db049f1f9c.png\n",
      ":piggy: - https://emoji.slack-edge.com/T077B9HK6BZ/piggy/b7762ee8cd.png\n",
      ":cubimal_chick: - https://emoji.slack-edge.com/T077B9HK6BZ/cubimal_chick/85961c43d7.png\n",
      ":dusty_stick: - https://emoji.slack-edge.com/T077B9HK6BZ/dusty_stick/6177a62312.png\n",
      ":slack: - https://emoji.slack-edge.com/T077B9HK6BZ/slack/7d462d2443.png\n",
      ":pride: - https://emoji.slack-edge.com/T077B9HK6BZ/pride/56b1bd3388.png\n",
      ":thumbsup_all: - https://emoji.slack-edge.com/T077B9HK6BZ/thumbsup_all/50096a1020.png\n",
      ":slack_call: - https://emoji.slack-edge.com/T077B9HK6BZ/slack_call/b81fffd6dd.png\n",
      ":shipit: - alias:squirrel\n",
      ":white_square: - alias:white_large_square\n",
      ":black_square: - alias:black_large_square\n",
      ":simple_smile: - https://a.slack-edge.com/80588/img/emoji_2017_12_06/apple/simple_smile.png\n"
     ]
    }
   ],
   "source": [
    "import os\n",
    "from slack_sdk import WebClient\n",
    "from slack_sdk.errors import SlackApiError\n",
    "\n",
    "\n",
    "# Initialize a WebClient\n",
    "client = WebClient(token=slack_bot_token)\n",
    "\n",
    "try:\n",
    "    # Call the emoji.list method\n",
    "    response = client.emoji_list()\n",
    "    emojis = response['emoji']\n",
    "\n",
    "    # Print the list of emojis\n",
    "    for emoji, url in emojis.items():\n",
    "        print(f\":{emoji}: - {url}\")\n",
    "\n",
    "except SlackApiError as e:\n",
    "    print(f\"Error fetching emojis: {e.response['error']}\")\n",
    "\n"
   ]
  },
  {
   "cell_type": "code",
   "execution_count": null,
   "metadata": {},
   "outputs": [],
   "source": []
  }
 ],
 "metadata": {
  "kernelspec": {
   "display_name": "dan-dev",
   "language": "python",
   "name": "python3"
  },
  "language_info": {
   "codemirror_mode": {
    "name": "ipython",
    "version": 3
   },
   "file_extension": ".py",
   "mimetype": "text/x-python",
   "name": "python",
   "nbconvert_exporter": "python",
   "pygments_lexer": "ipython3",
   "version": "3.10.13"
  }
 },
 "nbformat": 4,
 "nbformat_minor": 2
}
